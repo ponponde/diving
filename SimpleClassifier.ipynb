{
 "cells": [
  {
   "cell_type": "markdown",
   "id": "dd61d4ad",
   "metadata": {},
   "source": [
    "## Utilities"
   ]
  },
  {
   "cell_type": "code",
   "execution_count": 2,
   "id": "dfd302b0",
   "metadata": {},
   "outputs": [],
   "source": [
    "import utils"
   ]
  },
  {
   "cell_type": "markdown",
   "id": "4cc604d0",
   "metadata": {},
   "source": [
    "## Preprocessing"
   ]
  },
  {
   "cell_type": "code",
   "execution_count": 2,
   "id": "17f2d30c",
   "metadata": {},
   "outputs": [
    {
     "data": {
      "text/plain": [
       "(['60', '70', '80', '90'], 4)"
      ]
     },
     "execution_count": 2,
     "metadata": {},
     "output_type": "execute_result"
    }
   ],
   "source": [
    "import os\n",
    "root = \".\"\n",
    "video_folder = \"byclass\"\n",
    "jpg_folder = \"byclass_jpg\"\n",
    "path2aCatgs = os.path.join(root, video_folder)\n",
    "\n",
    "listOfCategories = os.listdir(path2aCatgs)\n",
    "listOfCategories, len(listOfCategories)"
   ]
  },
  {
   "cell_type": "code",
   "execution_count": 3,
   "id": "5f93bc0e",
   "metadata": {},
   "outputs": [
    {
     "name": "stdout",
     "output_type": "stream",
     "text": [
      "category: 60\n",
      "number of videos in this cat: 38\n",
      "--------------------------------------------------\n",
      "category: 70\n",
      "number of videos in this cat: 94\n",
      "--------------------------------------------------\n",
      "category: 80\n",
      "number of videos in this cat: 130\n",
      "--------------------------------------------------\n",
      "category: 90\n",
      "number of videos in this cat: 72\n",
      "--------------------------------------------------\n"
     ]
    }
   ],
   "source": [
    "# show number of videos in each folder(class)\n",
    "for cat in listOfCategories:\n",
    "    print(\"category:\", cat)\n",
    "    path2acat = os.path.join(path2aCatgs, cat)\n",
    "    listOfSubs = os.listdir(path2acat)\n",
    "    print(\"number of videos in this cat:\", len(listOfSubs))\n",
    "    print(\"-\"*50)"
   ]
  },
  {
   "cell_type": "markdown",
   "id": "b20f8cba",
   "metadata": {},
   "source": [
    "#### Convert videos to jpg images"
   ]
  },
  {
   "cell_type": "code",
   "execution_count": 175,
   "id": "733a8c77",
   "metadata": {},
   "outputs": [
    {
     "name": "stdout",
     "output_type": "stream",
     "text": [
      "Successfuly convert videos in .\\byclass\\60 to images\n",
      "Successfuly convert videos in .\\byclass\\70 to images\n",
      "Successfuly convert videos in .\\byclass\\80 to images\n",
      "Successfuly convert videos in .\\byclass\\90 to images\n",
      "Successfuly convert videos in .\\byclass to images\n"
     ]
    }
   ],
   "source": [
    "# use get_frames() & store_frames() to convert videos to jpg images\n",
    "extension = \".avi\"\n",
    "n_frames = 151\n",
    "\n",
    "for root, dirs, files in os.walk(path2aCatgs, topdown=False):\n",
    "    for name in files:\n",
    "        if extension not in name:\n",
    "            continue\n",
    "        path2vid = os.path.join(root, name)\n",
    "        frames, v_len = get_frames(path2vid, n_frames=n_frames)\n",
    "        path2store = path2vid.replace(video_folder, jpg_folder)\n",
    "        path2store = path2store.replace(extension, \"\")\n",
    "        # print(path2store)\n",
    "        os.makedirs(path2store, exist_ok=True)\n",
    "        store_frames(frames, path2store)\n",
    "    print(\"Successfuly convert videos in \" + root + \" to images\")\n",
    "    # print(\"-\"*50)"
   ]
  },
  {
   "cell_type": "markdown",
   "id": "b774ba65",
   "metadata": {},
   "source": [
    "## Load Images & Labels"
   ]
  },
  {
   "cell_type": "code",
   "execution_count": 4,
   "id": "edb0879e",
   "metadata": {},
   "outputs": [],
   "source": [
    "import os\n",
    "\n",
    "root = \".\"\n",
    "jpg_folder = \"byclass_jpg\"\n",
    "path2ajpgs = os.path.join(root, jpg_folder)"
   ]
  },
  {
   "cell_type": "code",
   "execution_count": 5,
   "id": "94926973",
   "metadata": {},
   "outputs": [],
   "source": [
    "# use get_videos() to import jpg images\n",
    "all_vids, all_labels, catgs = get_videos(path2ajpgs)"
   ]
  },
  {
   "cell_type": "code",
   "execution_count": 6,
   "id": "f6f32d29",
   "metadata": {},
   "outputs": [
    {
     "data": {
      "text/plain": [
       "(334, 334, 4)"
      ]
     },
     "execution_count": 6,
     "metadata": {},
     "output_type": "execute_result"
    }
   ],
   "source": [
    "len(all_vids), len(all_labels), len(catgs)"
   ]
  },
  {
   "cell_type": "code",
   "execution_count": 7,
   "id": "288bfd9a",
   "metadata": {},
   "outputs": [
    {
     "data": {
      "text/plain": [
       "(['.\\\\byclass_jpg\\\\60\\\\029',\n",
       "  '.\\\\byclass_jpg\\\\60\\\\044',\n",
       "  '.\\\\byclass_jpg\\\\60\\\\047'],\n",
       " ['60', '60', '60'],\n",
       " ['60', '70', '80', '90'])"
      ]
     },
     "execution_count": 7,
     "metadata": {},
     "output_type": "execute_result"
    }
   ],
   "source": [
    "all_vids[:3], all_labels[:3], catgs[:4]"
   ]
  },
  {
   "cell_type": "code",
   "execution_count": 8,
   "id": "06f6ee37",
   "metadata": {},
   "outputs": [
    {
     "data": {
      "text/plain": [
       "{'60': 0, '70': 1, '80': 2, '90': 3}"
      ]
     },
     "execution_count": 8,
     "metadata": {},
     "output_type": "execute_result"
    }
   ],
   "source": [
    "# convert class name to integer\n",
    "labels_dict = {}\n",
    "ind = 0\n",
    "for uc in catgs:\n",
    "    labels_dict[uc] = ind\n",
    "    ind += 1\n",
    "labels_dict"
   ]
  },
  {
   "cell_type": "code",
   "execution_count": 9,
   "id": "5e76f6ad",
   "metadata": {},
   "outputs": [
    {
     "data": {
      "text/plain": [
       "(334, 334)"
      ]
     },
     "execution_count": 9,
     "metadata": {},
     "output_type": "execute_result"
    }
   ],
   "source": [
    "num_classes = 4\n",
    "unique_ids = [id_ for id_, label in zip(all_vids,all_labels) if labels_dict[label] < num_classes]\n",
    "unique_labels = [label for id_, label in zip(all_vids,all_labels) if labels_dict[label] < num_classes]\n",
    "len(unique_ids),len(unique_labels)"
   ]
  },
  {
   "cell_type": "code",
   "execution_count": 10,
   "id": "316079ae",
   "metadata": {},
   "outputs": [
    {
     "name": "stdout",
     "output_type": "stream",
     "text": [
      "300 300\n",
      "34 34\n"
     ]
    }
   ],
   "source": [
    "from sklearn.model_selection import StratifiedShuffleSplit\n",
    "\n",
    "sss = StratifiedShuffleSplit(n_splits=2, test_size=0.1, random_state=0)\n",
    "train_indx, test_indx = next(sss.split(unique_ids, unique_labels))\n",
    "\n",
    "train_ids = [unique_ids[ind] for ind in train_indx]\n",
    "train_labels = [unique_labels[ind] for ind in train_indx]\n",
    "print(len(train_ids), len(train_labels)) \n",
    "\n",
    "test_ids = [unique_ids[ind] for ind in test_indx]\n",
    "test_labels = [unique_labels[ind] for ind in test_indx]\n",
    "print(len(test_ids), len(test_labels))"
   ]
  },
  {
   "cell_type": "code",
   "execution_count": 11,
   "id": "621cefa3",
   "metadata": {},
   "outputs": [
    {
     "data": {
      "text/plain": [
       "(['.\\\\byclass_jpg\\\\90\\\\012',\n",
       "  '.\\\\byclass_jpg\\\\90\\\\167',\n",
       "  '.\\\\byclass_jpg\\\\80\\\\205',\n",
       "  '.\\\\byclass_jpg\\\\80\\\\353',\n",
       "  '.\\\\byclass_jpg\\\\60\\\\215'],\n",
       " ['90', '90', '80', '80', '60'],\n",
       " ['.\\\\byclass_jpg\\\\80\\\\147',\n",
       "  '.\\\\byclass_jpg\\\\70\\\\172',\n",
       "  '.\\\\byclass_jpg\\\\70\\\\132',\n",
       "  '.\\\\byclass_jpg\\\\60\\\\062',\n",
       "  '.\\\\byclass_jpg\\\\70\\\\229'],\n",
       " ['80', '70', '70', '60', '70'])"
      ]
     },
     "execution_count": 11,
     "metadata": {},
     "output_type": "execute_result"
    }
   ],
   "source": [
    "train_ids[:5], train_labels[:5], test_ids[:5], test_labels[:5]"
   ]
  },
  {
   "cell_type": "markdown",
   "id": "2ac82265",
   "metadata": {},
   "source": [
    "## Defining Dataset"
   ]
  },
  {
   "cell_type": "code",
   "execution_count": 12,
   "id": "756c9ed7",
   "metadata": {},
   "outputs": [],
   "source": [
    "from torch.utils.data import Dataset\n",
    "import glob\n",
    "from PIL import Image\n",
    "import torch\n",
    "\n",
    "class VideoDataset(Dataset):\n",
    "    def __init__(self, ids, labels, transform):\n",
    "        self.ids = ids\n",
    "        self.labels = labels\n",
    "        self.transform = transform\n",
    "    def __len__(self):\n",
    "        return len(self.ids)\n",
    "    def __getitem__(self, idx):\n",
    "        # Get jpgs generated from video \"ids[idx]\"\n",
    "        path2imgs = glob.glob(self.ids[idx] + \"/*.jpg\")\n",
    "        label = labels_dict[self.labels[idx]]\n",
    "        frames = []\n",
    "        for p2i in path2imgs:\n",
    "            frame = Image.open(p2i)\n",
    "            frame = self.transform(frame)\n",
    "            frames.append(frame)\n",
    "        if len(frames) > 0:\n",
    "            frames = torch.stack(frames)\n",
    "            frames = frames.permute(1,0,2,3)\n",
    "        return frames, label"
   ]
  },
  {
   "cell_type": "code",
   "execution_count": 13,
   "id": "e0c879dc",
   "metadata": {},
   "outputs": [],
   "source": [
    "import torchvision.transforms as transforms\n",
    "\n",
    "transform = transforms.Compose(\n",
    "    [transforms.ToTensor(),\n",
    "     transforms.Normalize((0.5, 0.5, 0.5), (0.5, 0.5, 0.5))]\n",
    ")"
   ]
  },
  {
   "cell_type": "markdown",
   "id": "98b7ec41",
   "metadata": {},
   "source": [
    "## Create Datasets"
   ]
  },
  {
   "cell_type": "code",
   "execution_count": 14,
   "id": "e8ef6724",
   "metadata": {},
   "outputs": [],
   "source": [
    "train_ds = VideoDataset(ids=train_ids, labels=train_labels, transform=transform)\n",
    "test_ds = VideoDataset(ids=test_ids, labels=test_labels, transform=transform)"
   ]
  },
  {
   "cell_type": "code",
   "execution_count": 15,
   "id": "e5cb3e10",
   "metadata": {},
   "outputs": [
    {
     "data": {
      "text/plain": [
       "(torch.Size([3, 151, 240, 320]), 2, tensor(-1.), tensor(1.))"
      ]
     },
     "execution_count": 15,
     "metadata": {},
     "output_type": "execute_result"
    }
   ],
   "source": [
    "imgs, label = train_ds[61]\n",
    "imgs.shape, label, torch.min(imgs), torch.max(imgs)"
   ]
  },
  {
   "cell_type": "code",
   "execution_count": 16,
   "id": "a7c04875",
   "metadata": {
    "scrolled": true
   },
   "outputs": [
    {
     "name": "stderr",
     "output_type": "stream",
     "text": [
      "Clipping input data to the valid range for imshow with RGB data ([0..1] for floats or [0..255] for integers).\n"
     ]
    },
    {
     "data": {
      "text/plain": [
       "<matplotlib.image.AxesImage at 0x24feeb4ee80>"
      ]
     },
     "execution_count": 16,
     "metadata": {},
     "output_type": "execute_result"
    },
    {
     "data": {
      "image/png": "[encoded data removed]",
      "text/plain": [
       "<Figure size 432x288 with 1 Axes>"
      ]
     },
     "metadata": {
      "needs_background": "light"
     },
     "output_type": "display_data"
    }
   ],
   "source": [
    "import matplotlib.pyplot as plt\n",
    "\n",
    "plt.imshow(np.transpose(imgs[:,100,:,:], (1,2,0)))"
   ]
  },
  {
   "cell_type": "markdown",
   "id": "2187b7b8",
   "metadata": {},
   "source": [
    "## Create DataLoaders"
   ]
  },
  {
   "cell_type": "code",
   "execution_count": 17,
   "id": "7b0c7edb",
   "metadata": {},
   "outputs": [],
   "source": [
    "from torch.utils.data import DataLoader\n",
    "\n",
    "batch_size = 10\n",
    "train_dl = torch.utils.data.DataLoader(train_ds, batch_size=batch_size,\n",
    "                                       shuffle=True, num_workers=0)\n",
    "test_dl = torch.utils.data.DataLoader(test_ds, batch_size=batch_size,\n",
    "                                      shuffle=False, num_workers=0)"
   ]
  },
  {
   "cell_type": "code",
   "execution_count": 18,
   "id": "f0f46254",
   "metadata": {},
   "outputs": [
    {
     "name": "stdout",
     "output_type": "stream",
     "text": [
      "torch.Size([10, 3, 151, 240, 320]) torch.Size([10])\n",
      "torch.Size([10, 3, 151, 240, 320]) torch.Size([10])\n"
     ]
    }
   ],
   "source": [
    "for xb, yb in train_dl:\n",
    "    print(xb.shape, yb.shape)\n",
    "    break\n",
    "for xb, yb in test_dl:\n",
    "    print(xb.shape, yb.shape)\n",
    "    break"
   ]
  },
  {
   "cell_type": "markdown",
   "id": "bed8ac56",
   "metadata": {},
   "source": [
    "## Define CNN Model"
   ]
  },
  {
   "cell_type": "code",
   "execution_count": 19,
   "id": "723bf6d1",
   "metadata": {},
   "outputs": [],
   "source": [
    "import torch.nn as nn\n",
    "import torch.nn.functional as F\n",
    "\n",
    "class Net(nn.Module):\n",
    "    def __init__(self):\n",
    "        super().__init__()\n",
    "        self.conv1 = nn.Conv3d(3,6,5)\n",
    "        self.pool = nn.MaxPool3d(2,2)\n",
    "        self.conv2 = nn.Conv3d(6,16,5)\n",
    "        self.conv3 = nn.Conv3d(16,16,5)\n",
    "        self.fc1 = nn.Linear(16*151*26*36, 120)\n",
    "        self.fc2 = nn.Linear(120, 84)\n",
    "        self.fc3 = nn.Linear(84, 4)\n",
    "        \n",
    "    def forward(self, x):\n",
    "        x = F.relu(self.conv1(x))    # Conv1: H: (240-5+2*0)/1+1 = 236, W: (320-5+2*0)/1+1 = 316\n",
    "        x = self.pool(x)             # Pool1: H: (236-2+2*0)/2+1= 118, W: (316-2+2*0)/2+1 = 158\n",
    "        x = F.relu(self.conv2(x))    # Conv2: H: (118-5+2*0)/1+1 = 114, W: (158-5+2*0)/1+1 = 154\n",
    "        x = self.pool(x)             # Pool2: H: (114-2+2*0)/2+1 = 57, W: (154-2+2*0)/2+1 = 77\n",
    "        x = F.relu(self.conv3(x))    # Conv3: H: (57-5+2*0)/1+1 = 53, W: (77-5+2*0)/1+1 = 73\n",
    "        x = self.pool(x)             # Pool3: H: (53-2+2*0)/2+1 = 26.5 W: (73-2+2*0)/2+1 = 36.5\n",
    "        print(x.shape)\n",
    "        x = torch.flatten(x, 1)\n",
    "        x = F.relu(self.fc1(x))\n",
    "        x = F.relu(self.fc2(x))\n",
    "        x = self.fc3(x)\n",
    "        return x\n",
    "\n",
    "net = Net()"
   ]
  },
  {
   "cell_type": "markdown",
   "id": "7e44ba18",
   "metadata": {},
   "source": [
    "## Define Loss Function & Optimizer"
   ]
  },
  {
   "cell_type": "code",
   "execution_count": 20,
   "id": "1a7ab1ae",
   "metadata": {},
   "outputs": [],
   "source": [
    "import torch.optim as optim\n",
    "\n",
    "criterion = nn.CrossEntropyLoss()\n",
    "optimizer = optim.SGD(net.parameters(), lr=0.001, momentum=0.9)"
   ]
  },
  {
   "cell_type": "markdown",
   "id": "e289b24f",
   "metadata": {},
   "source": [
    "### Check GPU Availability"
   ]
  },
  {
   "cell_type": "code",
   "execution_count": 21,
   "id": "05ac1522",
   "metadata": {},
   "outputs": [
    {
     "name": "stdout",
     "output_type": "stream",
     "text": [
      "Is CUDA supported by this system? True\n",
      "CUDA version: 10.2\n",
      "ID of current CUDA device: 0\n",
      "Name of current CUDA device: GeForce GTX 1660 Ti\n"
     ]
    }
   ],
   "source": [
    "print(f\"Is CUDA supported by this system? {torch.cuda.is_available()}\")\n",
    "print(f\"CUDA version: {torch.version.cuda}\")\n",
    "  \n",
    "# Storing ID of current CUDA device\n",
    "cuda_id = torch.cuda.current_device()\n",
    "print(f\"ID of current CUDA device: {torch.cuda.current_device()}\")\n",
    "        \n",
    "print(f\"Name of current CUDA device: {torch.cuda.get_device_name(cuda_id)}\")"
   ]
  },
  {
   "cell_type": "code",
   "execution_count": 22,
   "id": "ae0ad66b",
   "metadata": {},
   "outputs": [
    {
     "name": "stdout",
     "output_type": "stream",
     "text": [
      "cuda:0\n"
     ]
    }
   ],
   "source": [
    "device = torch.device(\"cuda:0\" if torch.cuda.is_available() else \"cpu\")\n",
    "print(device)"
   ]
  },
  {
   "cell_type": "code",
   "execution_count": 23,
   "id": "2042cc28",
   "metadata": {},
   "outputs": [],
   "source": [
    "net = net.to(device)"
   ]
  },
  {
   "cell_type": "markdown",
   "id": "318df5cc",
   "metadata": {},
   "source": [
    "## Training"
   ]
  },
  {
   "cell_type": "code",
   "execution_count": 24,
   "id": "dec8ad84",
   "metadata": {},
   "outputs": [
    {
     "ename": "RuntimeError",
     "evalue": "CUDA out of memory. Tried to allocate 2.45 GiB (GPU 0; 6.00 GiB total capacity; 2.31 GiB already allocated; 2.26 GiB free; 2.31 GiB reserved in total by PyTorch)",
     "output_type": "error",
     "traceback": [
      "\u001b[1;31m---------------------------------------------------------------------------\u001b[0m",
      "\u001b[1;31mRuntimeError\u001b[0m                              Traceback (most recent call last)",
      "\u001b[1;32m<ipython-input-24-8b782d53efea>\u001b[0m in \u001b[0;36m<module>\u001b[1;34m\u001b[0m\n\u001b[0;32m     10\u001b[0m \u001b[1;33m\u001b[0m\u001b[0m\n\u001b[0;32m     11\u001b[0m         \u001b[1;31m# forward + backward + optimize\u001b[0m\u001b[1;33m\u001b[0m\u001b[1;33m\u001b[0m\u001b[1;33m\u001b[0m\u001b[0m\n\u001b[1;32m---> 12\u001b[1;33m         \u001b[0moutputs\u001b[0m \u001b[1;33m=\u001b[0m \u001b[0mnet\u001b[0m\u001b[1;33m(\u001b[0m\u001b[0minputs\u001b[0m\u001b[1;33m)\u001b[0m\u001b[1;33m\u001b[0m\u001b[1;33m\u001b[0m\u001b[0m\n\u001b[0m\u001b[0;32m     13\u001b[0m         \u001b[0mloss\u001b[0m\u001b[1;33m=\u001b[0m \u001b[0mcriterion\u001b[0m\u001b[1;33m(\u001b[0m\u001b[0moutputs\u001b[0m\u001b[1;33m,\u001b[0m \u001b[0mlabels\u001b[0m\u001b[1;33m)\u001b[0m\u001b[1;33m\u001b[0m\u001b[1;33m\u001b[0m\u001b[0m\n\u001b[0;32m     14\u001b[0m         \u001b[0mloss\u001b[0m\u001b[1;33m.\u001b[0m\u001b[0mbackward\u001b[0m\u001b[1;33m(\u001b[0m\u001b[1;33m)\u001b[0m\u001b[1;33m\u001b[0m\u001b[1;33m\u001b[0m\u001b[0m\n",
      "\u001b[1;32m~\\anaconda3\\lib\\site-packages\\torch\\nn\\modules\\module.py\u001b[0m in \u001b[0;36m_call_impl\u001b[1;34m(self, *input, **kwargs)\u001b[0m\n\u001b[0;32m   1049\u001b[0m         if not (self._backward_hooks or self._forward_hooks or self._forward_pre_hooks or _global_backward_hooks\n\u001b[0;32m   1050\u001b[0m                 or _global_forward_hooks or _global_forward_pre_hooks):\n\u001b[1;32m-> 1051\u001b[1;33m             \u001b[1;32mreturn\u001b[0m \u001b[0mforward_call\u001b[0m\u001b[1;33m(\u001b[0m\u001b[1;33m*\u001b[0m\u001b[0minput\u001b[0m\u001b[1;33m,\u001b[0m \u001b[1;33m**\u001b[0m\u001b[0mkwargs\u001b[0m\u001b[1;33m)\u001b[0m\u001b[1;33m\u001b[0m\u001b[1;33m\u001b[0m\u001b[0m\n\u001b[0m\u001b[0;32m   1052\u001b[0m         \u001b[1;31m# Do not call functions when jit is used\u001b[0m\u001b[1;33m\u001b[0m\u001b[1;33m\u001b[0m\u001b[1;33m\u001b[0m\u001b[0m\n\u001b[0;32m   1053\u001b[0m         \u001b[0mfull_backward_hooks\u001b[0m\u001b[1;33m,\u001b[0m \u001b[0mnon_full_backward_hooks\u001b[0m \u001b[1;33m=\u001b[0m \u001b[1;33m[\u001b[0m\u001b[1;33m]\u001b[0m\u001b[1;33m,\u001b[0m \u001b[1;33m[\u001b[0m\u001b[1;33m]\u001b[0m\u001b[1;33m\u001b[0m\u001b[1;33m\u001b[0m\u001b[0m\n",
      "\u001b[1;32m<ipython-input-19-b658d144e931>\u001b[0m in \u001b[0;36mforward\u001b[1;34m(self, x)\u001b[0m\n\u001b[0;32m     14\u001b[0m \u001b[1;33m\u001b[0m\u001b[0m\n\u001b[0;32m     15\u001b[0m     \u001b[1;32mdef\u001b[0m \u001b[0mforward\u001b[0m\u001b[1;33m(\u001b[0m\u001b[0mself\u001b[0m\u001b[1;33m,\u001b[0m \u001b[0mx\u001b[0m\u001b[1;33m)\u001b[0m\u001b[1;33m:\u001b[0m\u001b[1;33m\u001b[0m\u001b[1;33m\u001b[0m\u001b[0m\n\u001b[1;32m---> 16\u001b[1;33m         \u001b[0mx\u001b[0m \u001b[1;33m=\u001b[0m \u001b[0mF\u001b[0m\u001b[1;33m.\u001b[0m\u001b[0mrelu\u001b[0m\u001b[1;33m(\u001b[0m\u001b[0mself\u001b[0m\u001b[1;33m.\u001b[0m\u001b[0mconv1\u001b[0m\u001b[1;33m(\u001b[0m\u001b[0mx\u001b[0m\u001b[1;33m)\u001b[0m\u001b[1;33m)\u001b[0m    \u001b[1;31m# Conv1: H: (240-5+2*0)/1+1 = 236, W: (320-5+2*0)/1+1 = 316\u001b[0m\u001b[1;33m\u001b[0m\u001b[1;33m\u001b[0m\u001b[0m\n\u001b[0m\u001b[0;32m     17\u001b[0m         \u001b[0mx\u001b[0m \u001b[1;33m=\u001b[0m \u001b[0mself\u001b[0m\u001b[1;33m.\u001b[0m\u001b[0mpool\u001b[0m\u001b[1;33m(\u001b[0m\u001b[0mx\u001b[0m\u001b[1;33m)\u001b[0m             \u001b[1;31m# Pool1: H: (236-2+2*0)/2+1= 118, W: (316-2+2*0)/2+1 = 158\u001b[0m\u001b[1;33m\u001b[0m\u001b[1;33m\u001b[0m\u001b[0m\n\u001b[0;32m     18\u001b[0m         \u001b[0mx\u001b[0m \u001b[1;33m=\u001b[0m \u001b[0mF\u001b[0m\u001b[1;33m.\u001b[0m\u001b[0mrelu\u001b[0m\u001b[1;33m(\u001b[0m\u001b[0mself\u001b[0m\u001b[1;33m.\u001b[0m\u001b[0mconv2\u001b[0m\u001b[1;33m(\u001b[0m\u001b[0mx\u001b[0m\u001b[1;33m)\u001b[0m\u001b[1;33m)\u001b[0m    \u001b[1;31m# Conv2: H: (118-5+2*0)/1+1 = 114, W: (158-5+2*0)/1+1 = 154\u001b[0m\u001b[1;33m\u001b[0m\u001b[1;33m\u001b[0m\u001b[0m\n",
      "\u001b[1;32m~\\anaconda3\\lib\\site-packages\\torch\\nn\\modules\\module.py\u001b[0m in \u001b[0;36m_call_impl\u001b[1;34m(self, *input, **kwargs)\u001b[0m\n\u001b[0;32m   1049\u001b[0m         if not (self._backward_hooks or self._forward_hooks or self._forward_pre_hooks or _global_backward_hooks\n\u001b[0;32m   1050\u001b[0m                 or _global_forward_hooks or _global_forward_pre_hooks):\n\u001b[1;32m-> 1051\u001b[1;33m             \u001b[1;32mreturn\u001b[0m \u001b[0mforward_call\u001b[0m\u001b[1;33m(\u001b[0m\u001b[1;33m*\u001b[0m\u001b[0minput\u001b[0m\u001b[1;33m,\u001b[0m \u001b[1;33m**\u001b[0m\u001b[0mkwargs\u001b[0m\u001b[1;33m)\u001b[0m\u001b[1;33m\u001b[0m\u001b[1;33m\u001b[0m\u001b[0m\n\u001b[0m\u001b[0;32m   1052\u001b[0m         \u001b[1;31m# Do not call functions when jit is used\u001b[0m\u001b[1;33m\u001b[0m\u001b[1;33m\u001b[0m\u001b[1;33m\u001b[0m\u001b[0m\n\u001b[0;32m   1053\u001b[0m         \u001b[0mfull_backward_hooks\u001b[0m\u001b[1;33m,\u001b[0m \u001b[0mnon_full_backward_hooks\u001b[0m \u001b[1;33m=\u001b[0m \u001b[1;33m[\u001b[0m\u001b[1;33m]\u001b[0m\u001b[1;33m,\u001b[0m \u001b[1;33m[\u001b[0m\u001b[1;33m]\u001b[0m\u001b[1;33m\u001b[0m\u001b[1;33m\u001b[0m\u001b[0m\n",
      "\u001b[1;32m~\\anaconda3\\lib\\site-packages\\torch\\nn\\modules\\conv.py\u001b[0m in \u001b[0;36mforward\u001b[1;34m(self, input)\u001b[0m\n\u001b[0;32m    585\u001b[0m \u001b[1;33m\u001b[0m\u001b[0m\n\u001b[0;32m    586\u001b[0m     \u001b[1;32mdef\u001b[0m \u001b[0mforward\u001b[0m\u001b[1;33m(\u001b[0m\u001b[0mself\u001b[0m\u001b[1;33m,\u001b[0m \u001b[0minput\u001b[0m\u001b[1;33m:\u001b[0m \u001b[0mTensor\u001b[0m\u001b[1;33m)\u001b[0m \u001b[1;33m->\u001b[0m \u001b[0mTensor\u001b[0m\u001b[1;33m:\u001b[0m\u001b[1;33m\u001b[0m\u001b[1;33m\u001b[0m\u001b[0m\n\u001b[1;32m--> 587\u001b[1;33m         \u001b[1;32mreturn\u001b[0m \u001b[0mself\u001b[0m\u001b[1;33m.\u001b[0m\u001b[0m_conv_forward\u001b[0m\u001b[1;33m(\u001b[0m\u001b[0minput\u001b[0m\u001b[1;33m,\u001b[0m \u001b[0mself\u001b[0m\u001b[1;33m.\u001b[0m\u001b[0mweight\u001b[0m\u001b[1;33m,\u001b[0m \u001b[0mself\u001b[0m\u001b[1;33m.\u001b[0m\u001b[0mbias\u001b[0m\u001b[1;33m)\u001b[0m\u001b[1;33m\u001b[0m\u001b[1;33m\u001b[0m\u001b[0m\n\u001b[0m\u001b[0;32m    588\u001b[0m \u001b[1;33m\u001b[0m\u001b[0m\n\u001b[0;32m    589\u001b[0m \u001b[1;33m\u001b[0m\u001b[0m\n",
      "\u001b[1;32m~\\anaconda3\\lib\\site-packages\\torch\\nn\\modules\\conv.py\u001b[0m in \u001b[0;36m_conv_forward\u001b[1;34m(self, input, weight, bias)\u001b[0m\n\u001b[0;32m    580\u001b[0m                 \u001b[0mself\u001b[0m\u001b[1;33m.\u001b[0m\u001b[0mgroups\u001b[0m\u001b[1;33m,\u001b[0m\u001b[1;33m\u001b[0m\u001b[1;33m\u001b[0m\u001b[0m\n\u001b[0;32m    581\u001b[0m             )\n\u001b[1;32m--> 582\u001b[1;33m         return F.conv3d(\n\u001b[0m\u001b[0;32m    583\u001b[0m             \u001b[0minput\u001b[0m\u001b[1;33m,\u001b[0m \u001b[0mweight\u001b[0m\u001b[1;33m,\u001b[0m \u001b[0mbias\u001b[0m\u001b[1;33m,\u001b[0m \u001b[0mself\u001b[0m\u001b[1;33m.\u001b[0m\u001b[0mstride\u001b[0m\u001b[1;33m,\u001b[0m \u001b[0mself\u001b[0m\u001b[1;33m.\u001b[0m\u001b[0mpadding\u001b[0m\u001b[1;33m,\u001b[0m \u001b[0mself\u001b[0m\u001b[1;33m.\u001b[0m\u001b[0mdilation\u001b[0m\u001b[1;33m,\u001b[0m \u001b[0mself\u001b[0m\u001b[1;33m.\u001b[0m\u001b[0mgroups\u001b[0m\u001b[1;33m\u001b[0m\u001b[1;33m\u001b[0m\u001b[0m\n\u001b[0;32m    584\u001b[0m         )\n",
      "\u001b[1;31mRuntimeError\u001b[0m: CUDA out of memory. Tried to allocate 2.45 GiB (GPU 0; 6.00 GiB total capacity; 2.31 GiB already allocated; 2.26 GiB free; 2.31 GiB reserved in total by PyTorch)"
     ]
    }
   ],
   "source": [
    "for epoch in range(2):\n",
    "    running_loss = 0.0\n",
    "    for i, data in enumerate(train_dl, 0):\n",
    "        # get the inputs; data is a list of [inputs, labels]\n",
    "        inputs, labels = data\n",
    "        inputs, labels = inputs.to(device), labels.to(device)\n",
    "        \n",
    "        # zero the parameter gradients\n",
    "        optimizer.zero_grad()\n",
    "        \n",
    "        # forward + backward + optimize\n",
    "        outputs = net(inputs)\n",
    "        loss= criterion(outputs, labels)\n",
    "        loss.backward()\n",
    "        optimizer.step()\n",
    "        \n",
    "        # print statistics\n",
    "        running_loss += loss.item()\n",
    "        if i % 2000 == 1999:\n",
    "            print('[%d, %5d] loss: %.3f' %\n",
    "                  (epoch + 1, i + 1, running_loss / 2000))\n",
    "            running_loss = 0.0\n",
    "\n",
    "print('Finished Training')"
   ]
  },
  {
   "cell_type": "code",
   "execution_count": 26,
   "id": "9b77c94b",
   "metadata": {},
   "outputs": [],
   "source": [
    "torch.cuda.empty_cache()"
   ]
  },
  {
   "cell_type": "code",
   "execution_count": null,
   "id": "9401bffa",
   "metadata": {},
   "outputs": [],
   "source": []
  }
 ],
 "metadata": {
  "kernelspec": {
   "display_name": "Python 3",
   "language": "python",
   "name": "python3"
  },
  "language_info": {
   "codemirror_mode": {
    "name": "ipython",
    "version": 3
   },
   "file_extension": ".py",
   "mimetype": "text/x-python",
   "name": "python",
   "nbconvert_exporter": "python",
   "pygments_lexer": "ipython3",
   "version": "3.8.8"
  }
 },
 "nbformat": 4,
 "nbformat_minor": 5
}
